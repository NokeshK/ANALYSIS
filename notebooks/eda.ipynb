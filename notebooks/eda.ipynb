{
 "cells": [
  {
   "cell_type": "code",
   "execution_count": null,
   "metadata": {},
   "outputs": [],
   "source": [
    "import pandas as pd\n",
    "import seaborn as sns\n",
    "import matplotlib.pyplot as plt\n",
    "import sqlite3\n",
    "\n",
    "# Set style\n",
    "sns.set(style='whitegrid')"
   ]
  },
  {
   "cell_type": "code",
   "execution_count": null,
   "metadata": {},
   "outputs": [],
   "source": [
    "# Load the cleaned dataset\n",
    "df = pd.read_csv('../data/hospital_data_cleaned.csv')\n",
    "df.head()"
   ]
  },
  {
   "cell_type": "code",
   "execution_count": null,
   "metadata": {},
   "outputs": [],
   "source": [
    "# Summary statistics\n",
    "df.describe()"
   ]
  },
  {
   "cell_type": "code",
   "execution_count": null,
   "metadata": {},
   "outputs": [],
   "source": [
    "# Count plot of hospital types\n",
    "plt.figure(figsize=(10, 6))\n",
    "sns.countplot(data=df, x='hospital_type')\n",
    "plt.title('Count of Hospital Types')\n",
    "plt.xticks(rotation=45)\n",
    "plt.show()"
   ]
  },
  {
   "cell_type": "code",
   "execution_count": null,
   "metadata": {},
   "outputs": [],
   "source": [
    "# Bar plot of top 10 states with most hospitals\n",
    "top_states = df['state'].value_counts().head(10)\n",
    "plt.figure(figsize=(10, 6))\n",
    "top_states.plot(kind='bar')\n",
    "plt.title('Top 10 States with Most Hospitals')\n",
    "plt.xlabel('State')\n",
    "plt.ylabel('Number of Hospitals')\n",
    "plt.show()"
   ]
  },
  {
   "cell_type": "code",
   "execution_count": null,
   "metadata": {},
   "outputs": [],
   "source": [
    "# Bar plot of hospital ownership distribution\n",
    "plt.figure(figsize=(10, 6))\n",
    "sns.countplot(data=df, x='hospital_ownership')\n",
    "plt.title('Hospital Ownership Distribution')\n",
    "plt.xticks(rotation=45)\n",
    "plt.show()"
   ]
  },
  {
   "cell_type": "code",
   "execution_count": null,
   "metadata": {},
   "outputs": [],
   "source": [
    "# Histogram of login activity distribution\n",
    "import mysql.connector\n",
    "conn = mysql.connector.connect(host='localhost', user='root', password='123456', database='hospital_db')\n",
    "cursor = conn.cursor()\n",
    "cursor.execute('SELECT login_count FROM login_activity')\n",
    "login_counts = [row[0] for row in cursor.fetchall()]\n",
    "conn.close()\n",
    "\n",
    "plt.figure(figsize=(10, 6))\n",
    "sns.histplot(login_counts, bins=20)\n",
    "plt.title('Login Activity Distribution')\n",
    "plt.xlabel('Login Count')\n",
    "plt.ylabel('Frequency')\n",
    "plt.show()"
   ]
  }
 ],
 "metadata": {
  "kernelspec": {
   "display_name": "Python 3",
   "language": "python",
   "name": "python3"
  },
  "language_info": {
   "codemirror_mode": {
    "name": "ipython",
    "version": 3
   },
   "file_extension": ".py",
   "mimetype": "text/x-python",
   "name": "python",
   "nbconvert_exporter": "python",
   "pygments_lexer": "ipython3",
   "version": "3.8.5"
  }
 },
 "nbformat": 4,
 "nbformat_minor": 4
}